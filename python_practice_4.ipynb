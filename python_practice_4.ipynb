{
  "cells": [
    {
      "cell_type": "markdown",
      "metadata": {
        "id": "kXpppdVm6wFy"
      },
      "source": [
        "# I. Functions. Arguments."
      ]
    },
    {
      "cell_type": "markdown",
      "metadata": {
        "id": "u_krJdlbAkVz"
      },
      "source": [
        "1. (5б) Назвіть основні 4 смислові  частини, з яких складається функція."
      ]
    },
    {
      "cell_type": "markdown",
      "metadata": {
        "id": "KKTrTXmHAptb"
      },
      "source": [
        "Заголовок, тіло, вхідні параметри та значення, що повертається."
      ]
    },
    {
      "cell_type": "markdown",
      "metadata": {
        "id": "ORM4PqJQAtDM"
      },
      "source": [
        "2. (3б) Визначте функцію, що приймає 2 аргументи та повертає результат ділення 1го аргумента на інший."
      ]
    },
    {
      "cell_type": "code",
      "execution_count": 1,
      "metadata": {
        "id": "EuDx-z8M6sLo"
      },
      "outputs": [
        {
          "name": "stdout",
          "output_type": "stream",
          "text": [
            "2.0\n"
          ]
        }
      ],
      "source": [
        "def division(a, b):\n",
        "    return a/b\n",
        "\n",
        "print(division(6, 3))"
      ]
    },
    {
      "cell_type": "markdown",
      "metadata": {
        "id": "5joQGQ-SAyMe"
      },
      "source": [
        "3. (2б) Викличте вище визначену функцію, де другий аргумент дорівнює 0."
      ]
    },
    {
      "cell_type": "code",
      "execution_count": 2,
      "metadata": {
        "id": "V5cBV1LOA3d-"
      },
      "outputs": [
        {
          "ename": "ZeroDivisionError",
          "evalue": "division by zero",
          "output_type": "error",
          "traceback": [
            "\u001b[1;31m---------------------------------------------------------------------------\u001b[0m",
            "\u001b[1;31mZeroDivisionError\u001b[0m                         Traceback (most recent call last)",
            "Cell \u001b[1;32mIn[2], line 1\u001b[0m\n\u001b[1;32m----> 1\u001b[0m \u001b[38;5;28mprint\u001b[39m(\u001b[43mdivision\u001b[49m\u001b[43m(\u001b[49m\u001b[38;5;241;43m2\u001b[39;49m\u001b[43m,\u001b[49m\u001b[38;5;241;43m0\u001b[39;49m\u001b[43m)\u001b[49m)\n",
            "Cell \u001b[1;32mIn[1], line 2\u001b[0m, in \u001b[0;36mdivision\u001b[1;34m(a, b)\u001b[0m\n\u001b[0;32m      1\u001b[0m \u001b[38;5;28;01mdef\u001b[39;00m \u001b[38;5;21mdivision\u001b[39m(a,b):\n\u001b[1;32m----> 2\u001b[0m     \u001b[38;5;28;01mreturn\u001b[39;00m \u001b[43ma\u001b[49m\u001b[38;5;241;43m/\u001b[39;49m\u001b[43mb\u001b[49m\n",
            "\u001b[1;31mZeroDivisionError\u001b[0m: division by zero"
          ]
        }
      ],
      "source": [
        "print(division(2, 0))"
      ]
    },
    {
      "cell_type": "markdown",
      "metadata": {
        "id": "QyimWgW8A43-"
      },
      "source": [
        "4. (4б) Перевизначте функцію так, щоби у випадку ділення на 0 функція повертала None, а в решті випадків - результат розрахунків."
      ]
    },
    {
      "cell_type": "code",
      "execution_count": 19,
      "metadata": {
        "id": "7VIODtSjA8Ek"
      },
      "outputs": [
        {
          "name": "stdout",
          "output_type": "stream",
          "text": [
            "None\n"
          ]
        }
      ],
      "source": [
        "def adjusted_division(a, b):\n",
        "    if(b == 0): return None\n",
        "    return a/b\n",
        "print(adjusted_division(2, 0))"
      ]
    },
    {
      "cell_type": "markdown",
      "metadata": {
        "id": "Y8mN0GfkA81l"
      },
      "source": [
        "5. (5б) Визначте функцію, що віднімає одне число від іншого (підказка: це буде 2 аргументи функції). При чому, якщо не визначити, скільки саме має бути віднято від числа, за замовчуванням має відніматися 1. Викличте функцію, передаючи тільки один аргумент."
      ]
    },
    {
      "cell_type": "code",
      "execution_count": 5,
      "metadata": {
        "id": "vg1kxkdgBA50"
      },
      "outputs": [
        {
          "data": {
            "text/plain": [
              "1"
            ]
          },
          "execution_count": 5,
          "metadata": {},
          "output_type": "execute_result"
        }
      ],
      "source": [
        "def difference(a, b=1):\n",
        "    return a - b\n",
        "difference(2)"
      ]
    },
    {
      "cell_type": "markdown",
      "metadata": {
        "id": "D3mwQGNOBBs4"
      },
      "source": [
        "6. (7б) Визначте функцію, яка приймає iterable (ітерабельний обʼєкт, напр. список), що складається з 7ми рядкових значень - назв погодних умов (напр. \"sunny\") за кожен день у тижні. Повертає функція словник, де ключами є рядки з погодними умовами, а значеннями - кількість разів, скільки дана погода була протягом тижня (напр. {'sunny': 1, ...}). Викличте цю функцію та виведіть результат її роботи на екран."
      ]
    },
    {
      "cell_type": "code",
      "execution_count": 9,
      "metadata": {
        "id": "OsWm-hKcBFyn"
      },
      "outputs": [
        {
          "data": {
            "text/plain": [
              "{'sunny': 3, 'rainy': 1, 'foggy': 1, 'cloudy': 1, 'thunderstorm': 1}"
            ]
          },
          "execution_count": 9,
          "metadata": {},
          "output_type": "execute_result"
        }
      ],
      "source": [
        "weekdays_weather = [\"sunny\", \"rainy\", \"foggy\", \"cloudy\", \"sunny\", \"sunny\", \"thunderstorm\"]\n",
        "def get_weekly_weather(weekdays_weather):\n",
        "    weather_frequency = dict()\n",
        "    for condition in weekdays_weather:\n",
        "        if(condition in weather_frequency):\n",
        "            continue\n",
        "        weather_frequency[condition] = weekdays_weather.count(condition)\n",
        "    return weather_frequency\n",
        "get_weekly_weather(weekdays_weather)\n",
        "\n",
        "\n"
      ]
    },
    {
      "cell_type": "markdown",
      "metadata": {
        "id": "RMiCcdOsBKQT"
      },
      "source": [
        "7. (15б) Напишіть програму, яка б шукала необхідне число у впорядкованому списку цілочислених значень, де\n",
        "число має вводитись з консолі.\n",
        "власне алгоритм пошуку винесений в окрему функцію, яка повертає булеве значення (знайдено число - True, не знайдено - False).\n",
        "в залежності від результату функції, виведіть на екран повідомлення про успішний або ж неуспішний пошук.\n",
        "Зауваження: використовувати оператор in заборонено."
      ]
    },
    {
      "cell_type": "code",
      "execution_count": 11,
      "metadata": {
        "id": "UNCZg65OBOy-"
      },
      "outputs": [
        {
          "name": "stdout",
          "output_type": "stream",
          "text": [
            "Success\n"
          ]
        },
        {
          "data": {
            "text/plain": [
              "True"
            ]
          },
          "execution_count": 11,
          "metadata": {},
          "output_type": "execute_result"
        }
      ],
      "source": [
        "def find_number(n, num_list):\n",
        "    for i in num_list:\n",
        "        if(n == i): \n",
        "            print(\"Success\")\n",
        "            return True\n",
        "    print(\"Fail\")\n",
        "    return False\n",
        "num_list = [32, 4, 15, 85, 5]\n",
        "num = int(input())\n",
        "find_number(num, num_list)\n"
      ]
    },
    {
      "cell_type": "markdown",
      "metadata": {
        "id": "Ae1n_OvLBTsy"
      },
      "source": [
        "# II. Lambda functions."
      ]
    },
    {
      "cell_type": "markdown",
      "metadata": {
        "id": "xaD_wSlaCWen"
      },
      "source": [
        "8. (4б) В яких випадках варто використовувати лямбда-функції?"
      ]
    },
    {
      "cell_type": "markdown",
      "metadata": {
        "id": "42MB6OoLCakR"
      },
      "source": [
        "Коли ця функція вткористається лише раз та містить невеликий вираз"
      ]
    },
    {
      "cell_type": "markdown",
      "metadata": {
        "id": "USrzrk7GCedk"
      },
      "source": [
        "9. (9б) Визначте список з рядками. Після цього визначте анонімну функцію для отримання першого символу у верхньому регістрі для кожного рядка списку.\n",
        "Підказка: використовуйте анонімну функцію в якості агрумента до вбудованої ф-ції, яка створена для застосування функцій над iterable обʼєктами. Результат виведіть на екран у вигляді кортежу."
      ]
    },
    {
      "cell_type": "code",
      "execution_count": 12,
      "metadata": {
        "id": "M8QWUsMlCjWH"
      },
      "outputs": [
        {
          "data": {
            "text/plain": [
              "('A', 'M', 'H', 'W', 'G', 'A')"
            ]
          },
          "execution_count": 12,
          "metadata": {},
          "output_type": "execute_result"
        }
      ],
      "source": [
        "string_list = [\"Ah\", \"man\", \"here\", \"we\", \"go\", \"again\"]\n",
        "\n",
        "firstl_tuple = tuple(map(lambda str: str[0].upper(), string_list))\n",
        "\n",
        "firstl_tuple"
      ]
    },
    {
      "cell_type": "markdown",
      "metadata": {
        "id": "9fyUhXOoCtGp"
      },
      "source": [
        "10. (10б) Визначте список з числовими значеннями (і цілими, і з рухомою комою). а) Відфільтруйте всі числа, які діляться націло на 3 за допомогою вбудованої функції та анонімної функції в якості аргумента). Збережіть результат у змінній, не приводяти явно до будь-якого типу. б) Використовуючи результат на кроці 12.а у якості аргументу, та за допомогою лямбда-функції в якості іншого аргументу до вбудованої функції, додайте до кожного елементу число 1 та опісля зведіть у квадрат. Остаточний результат приведіть явно до списку та виведіть на екран."
      ]
    },
    {
      "cell_type": "code",
      "execution_count": 15,
      "metadata": {
        "id": "exEx2_okCsql"
      },
      "outputs": [
        {
          "data": {
            "text/plain": [
              "[3, 6]"
            ]
          },
          "execution_count": 15,
          "metadata": {},
          "output_type": "execute_result"
        }
      ],
      "source": [
        "num_list = [1, 2, 3, 5.5, 6]\n",
        "divisible_by_3 = list(filter(lambda n: n % 3 == 0, num_list))\n",
        "divisible_by_3"
      ]
    },
    {
      "cell_type": "markdown",
      "metadata": {
        "id": "o_x8cG_WC7jp"
      },
      "source": [
        "# III. Decorators."
      ]
    },
    {
      "cell_type": "markdown",
      "metadata": {
        "id": "mhxS4-mfC8LQ"
      },
      "source": [
        "11. (11б) Визначте декоратор, який би виводив у консоль повідомлення про початок роботи і назву функції (напр. my_function._ _ name _ _), а після відпрацювання функції - повідомлення про закінчення роботи і назву функції, що задекорована."
      ]
    },
    {
      "cell_type": "code",
      "execution_count": 17,
      "metadata": {
        "id": "srd1ygWjDGhO"
      },
      "outputs": [
        {
          "name": "stdout",
          "output_type": "stream",
          "text": [
            "Function addition started\n",
            "Function addition ended\n"
          ]
        },
        {
          "data": {
            "text/plain": [
              "5"
            ]
          },
          "execution_count": 17,
          "metadata": {},
          "output_type": "execute_result"
        }
      ],
      "source": [
        "def decorator(func):\n",
        "    def wrapper(*args, **kwargs):\n",
        "        print(f\"Function {func.__name__} started\")\n",
        "        result = func(*args, **kwargs)\n",
        "        print(f\"Function {func.__name__} ended\")\n",
        "        return result\n",
        "    return wrapper\n",
        "\n",
        "@decorator\n",
        "def addition(a, b):\n",
        "    return a + b\n",
        "\n",
        "addition(2, 3)\n",
        "\n"
      ]
    },
    {
      "cell_type": "markdown",
      "metadata": {
        "id": "rxGZwVBiDph3"
      },
      "source": [
        "12. (4б) Задекоруйте двома різними способами функції з завдання 4 та 5 декоратором із завдання 11. (**УВАГА**: не декоруйте функції двічі!)."
      ]
    },
    {
      "cell_type": "code",
      "execution_count": null,
      "metadata": {
        "id": "06lj7eq_DwZe"
      },
      "outputs": [],
      "source": [
        "adjusted_division = decorator(adjusted_division)\n",
        "\n",
        "@decorator\n",
        "def difference(a, b=1):\n",
        "    return a - b"
      ]
    },
    {
      "cell_type": "markdown",
      "metadata": {
        "id": "P0ep1urBDzf-"
      },
      "source": [
        "13. (2б) Викличте одну з задекорованих функцій і виведіть її результат на екран."
      ]
    },
    {
      "cell_type": "code",
      "execution_count": 20,
      "metadata": {
        "id": "1QvTw0ctD0S3"
      },
      "outputs": [
        {
          "data": {
            "text/plain": [
              "2.0"
            ]
          },
          "execution_count": 20,
          "metadata": {},
          "output_type": "execute_result"
        }
      ],
      "source": [
        "adjusted_division(4, 2)"
      ]
    },
    {
      "cell_type": "markdown",
      "metadata": {
        "id": "poECCpuoD2S9"
      },
      "source": [
        "# IV. Recursion."
      ]
    },
    {
      "cell_type": "markdown",
      "metadata": {
        "id": "DqkURfdsD7MY"
      },
      "source": [
        "14. (4б) Назвіть дві частини функції, які є обовʼязковими для того, щоб називати її рекурсивною."
      ]
    },
    {
      "cell_type": "markdown",
      "metadata": {
        "id": "HYW6ttIeIQIU"
      },
      "source": [
        "Умова для припинення роботи та рекурсивний виклик."
      ]
    },
    {
      "cell_type": "markdown",
      "metadata": {
        "id": "WYVt20UmEA35"
      },
      "source": [
        "15. (15б) Визначте функцію, яка рекурсивно реалізовує пошук числа у послідовності Фібоначчі за її індексом (нумерація починається з нуля). Наприклад, потрібно знайти перше число у послідовності, тоді функція прийматиме 0 у якості аргумента і повертатиме 1, якщо ж знаходити третє число (індекс 2) послідовності, то функція повертатиме 2, якщо ж знаходити десяте число (індекс 9), то функція повертатиме 55."
      ]
    },
    {
      "cell_type": "code",
      "execution_count": 24,
      "metadata": {
        "id": "xIMhp05AIpV_"
      },
      "outputs": [
        {
          "data": {
            "text/plain": [
              "55"
            ]
          },
          "execution_count": 24,
          "metadata": {},
          "output_type": "execute_result"
        }
      ],
      "source": [
        "def fibonacci(n):\n",
        "    if(n == 1): return 1\n",
        "    if(n == 2): return 2\n",
        "    return fibonacci(n - 1) + fibonacci(n - 2)\n",
        "\n",
        "var = fibonacci(9)\n",
        "var"
      ]
    },
    {
      "cell_type": "markdown",
      "metadata": {
        "id": "ytXC8n_4Ip0W"
      },
      "source": [
        "# Вітаю! Ви велика(ий) молодець, що впоралась(вся). Похваліть себе та побалуйте чимось приємним. Я Вами пишаюся."
      ]
    }
  ],
  "metadata": {
    "colab": {
      "provenance": []
    },
    "kernelspec": {
      "display_name": "Python 3",
      "name": "python3"
    },
    "language_info": {
      "codemirror_mode": {
        "name": "ipython",
        "version": 3
      },
      "file_extension": ".py",
      "mimetype": "text/x-python",
      "name": "python",
      "nbconvert_exporter": "python",
      "pygments_lexer": "ipython3",
      "version": "3.12.1"
    }
  },
  "nbformat": 4,
  "nbformat_minor": 0
}
